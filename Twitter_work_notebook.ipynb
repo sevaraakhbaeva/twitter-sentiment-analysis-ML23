{
 "cells": [
  {
   "cell_type": "markdown",
   "id": "8b16ec0d",
   "metadata": {
    "id": "8b16ec0d"
   },
   "source": [
    "# ML Course 2023 |  Sentiment Analysis in Twitter Challenge\n",
    "You can check the updated leaderboard in this [link](https://nimble-hellebore-184.notion.site/ML-Course-2023-Sentiment-Analysis-in-Twitter-Challenge-966b041e7aec4f2eabbc8dc33d64b871)."
   ]
  },
  {
   "cell_type": "code",
   "source": [
    "!pip3 install tueplots==0.0.5\n",
    "!pip3 install sentence-transformers==2.2.2"
   ],
   "metadata": {
    "colab": {
     "base_uri": "https://localhost:8080/"
    },
    "id": "EJfbR5fCE1eN",
    "executionInfo": {
     "status": "ok",
     "timestamp": 1682427886056,
     "user_tz": -120,
     "elapsed": 39634,
     "user": {
      "displayName": "Isabel Valera",
      "userId": "14662300919014123166"
     }
    },
    "outputId": "72a2c4bb-195c-4b19-f8e2-8e4a0a49925a"
   },
   "id": "EJfbR5fCE1eN",
   "execution_count": 1,
   "outputs": [
    {
     "output_type": "stream",
     "name": "stdout",
     "text": [
      "Looking in indexes: https://pypi.org/simple, https://us-python.pkg.dev/colab-wheels/public/simple/\n",
      "Collecting tueplots==0.0.5\n",
      "  Downloading tueplots-0.0.5-py3-none-any.whl (18 kB)\n",
      "Requirement already satisfied: numpy in /usr/local/lib/python3.9/dist-packages (from tueplots==0.0.5) (1.22.4)\n",
      "Requirement already satisfied: matplotlib in /usr/local/lib/python3.9/dist-packages (from tueplots==0.0.5) (3.7.1)\n",
      "Requirement already satisfied: contourpy>=1.0.1 in /usr/local/lib/python3.9/dist-packages (from matplotlib->tueplots==0.0.5) (1.0.7)\n",
      "Requirement already satisfied: fonttools>=4.22.0 in /usr/local/lib/python3.9/dist-packages (from matplotlib->tueplots==0.0.5) (4.39.3)\n",
      "Requirement already satisfied: pyparsing>=2.3.1 in /usr/local/lib/python3.9/dist-packages (from matplotlib->tueplots==0.0.5) (3.0.9)\n",
      "Requirement already satisfied: cycler>=0.10 in /usr/local/lib/python3.9/dist-packages (from matplotlib->tueplots==0.0.5) (0.11.0)\n",
      "Requirement already satisfied: pillow>=6.2.0 in /usr/local/lib/python3.9/dist-packages (from matplotlib->tueplots==0.0.5) (8.4.0)\n",
      "Requirement already satisfied: kiwisolver>=1.0.1 in /usr/local/lib/python3.9/dist-packages (from matplotlib->tueplots==0.0.5) (1.4.4)\n",
      "Requirement already satisfied: importlib-resources>=3.2.0 in /usr/local/lib/python3.9/dist-packages (from matplotlib->tueplots==0.0.5) (5.12.0)\n",
      "Requirement already satisfied: python-dateutil>=2.7 in /usr/local/lib/python3.9/dist-packages (from matplotlib->tueplots==0.0.5) (2.8.2)\n",
      "Requirement already satisfied: packaging>=20.0 in /usr/local/lib/python3.9/dist-packages (from matplotlib->tueplots==0.0.5) (23.1)\n",
      "Requirement already satisfied: zipp>=3.1.0 in /usr/local/lib/python3.9/dist-packages (from importlib-resources>=3.2.0->matplotlib->tueplots==0.0.5) (3.15.0)\n",
      "Requirement already satisfied: six>=1.5 in /usr/local/lib/python3.9/dist-packages (from python-dateutil>=2.7->matplotlib->tueplots==0.0.5) (1.16.0)\n",
      "Installing collected packages: tueplots\n",
      "Successfully installed tueplots-0.0.5\n",
      "Looking in indexes: https://pypi.org/simple, https://us-python.pkg.dev/colab-wheels/public/simple/\n",
      "Collecting sentence-transformers==2.2.2\n",
      "  Downloading sentence-transformers-2.2.2.tar.gz (85 kB)\n",
      "\u001B[2K     \u001B[90m━━━━━━━━━━━━━━━━━━━━━━━━━━━━━━━━━━━━━━━━\u001B[0m \u001B[32m86.0/86.0 kB\u001B[0m \u001B[31m1.3 MB/s\u001B[0m eta \u001B[36m0:00:00\u001B[0m\n",
      "\u001B[?25h  Preparing metadata (setup.py) ... \u001B[?25l\u001B[?25hdone\n",
      "Collecting transformers<5.0.0,>=4.6.0\n",
      "  Downloading transformers-4.28.1-py3-none-any.whl (7.0 MB)\n",
      "\u001B[2K     \u001B[90m━━━━━━━━━━━━━━━━━━━━━━━━━━━━━━━━━━━━━━━━\u001B[0m \u001B[32m7.0/7.0 MB\u001B[0m \u001B[31m44.0 MB/s\u001B[0m eta \u001B[36m0:00:00\u001B[0m\n",
      "\u001B[?25hRequirement already satisfied: tqdm in /usr/local/lib/python3.9/dist-packages (from sentence-transformers==2.2.2) (4.65.0)\n",
      "Requirement already satisfied: torch>=1.6.0 in /usr/local/lib/python3.9/dist-packages (from sentence-transformers==2.2.2) (2.0.0+cu118)\n",
      "Requirement already satisfied: torchvision in /usr/local/lib/python3.9/dist-packages (from sentence-transformers==2.2.2) (0.15.1+cu118)\n",
      "Requirement already satisfied: numpy in /usr/local/lib/python3.9/dist-packages (from sentence-transformers==2.2.2) (1.22.4)\n",
      "Requirement already satisfied: scikit-learn in /usr/local/lib/python3.9/dist-packages (from sentence-transformers==2.2.2) (1.2.2)\n",
      "Requirement already satisfied: scipy in /usr/local/lib/python3.9/dist-packages (from sentence-transformers==2.2.2) (1.10.1)\n",
      "Requirement already satisfied: nltk in /usr/local/lib/python3.9/dist-packages (from sentence-transformers==2.2.2) (3.8.1)\n",
      "Collecting sentencepiece\n",
      "  Downloading sentencepiece-0.1.98-cp39-cp39-manylinux_2_17_x86_64.manylinux2014_x86_64.whl (1.3 MB)\n",
      "\u001B[2K     \u001B[90m━━━━━━━━━━━━━━━━━━━━━━━━━━━━━━━━━━━━━━━━\u001B[0m \u001B[32m1.3/1.3 MB\u001B[0m \u001B[31m23.9 MB/s\u001B[0m eta \u001B[36m0:00:00\u001B[0m\n",
      "\u001B[?25hCollecting huggingface-hub>=0.4.0\n",
      "  Downloading huggingface_hub-0.14.0-py3-none-any.whl (224 kB)\n",
      "\u001B[2K     \u001B[90m━━━━━━━━━━━━━━━━━━━━━━━━━━━━━━━━━━━━━━\u001B[0m \u001B[32m224.2/224.2 kB\u001B[0m \u001B[31m11.8 MB/s\u001B[0m eta \u001B[36m0:00:00\u001B[0m\n",
      "\u001B[?25hRequirement already satisfied: packaging>=20.9 in /usr/local/lib/python3.9/dist-packages (from huggingface-hub>=0.4.0->sentence-transformers==2.2.2) (23.1)\n",
      "Requirement already satisfied: requests in /usr/local/lib/python3.9/dist-packages (from huggingface-hub>=0.4.0->sentence-transformers==2.2.2) (2.27.1)\n",
      "Requirement already satisfied: filelock in /usr/local/lib/python3.9/dist-packages (from huggingface-hub>=0.4.0->sentence-transformers==2.2.2) (3.11.0)\n",
      "Requirement already satisfied: pyyaml>=5.1 in /usr/local/lib/python3.9/dist-packages (from huggingface-hub>=0.4.0->sentence-transformers==2.2.2) (6.0)\n",
      "Requirement already satisfied: fsspec in /usr/local/lib/python3.9/dist-packages (from huggingface-hub>=0.4.0->sentence-transformers==2.2.2) (2023.4.0)\n",
      "Requirement already satisfied: typing-extensions>=3.7.4.3 in /usr/local/lib/python3.9/dist-packages (from huggingface-hub>=0.4.0->sentence-transformers==2.2.2) (4.5.0)\n",
      "Requirement already satisfied: sympy in /usr/local/lib/python3.9/dist-packages (from torch>=1.6.0->sentence-transformers==2.2.2) (1.11.1)\n",
      "Requirement already satisfied: jinja2 in /usr/local/lib/python3.9/dist-packages (from torch>=1.6.0->sentence-transformers==2.2.2) (3.1.2)\n",
      "Requirement already satisfied: triton==2.0.0 in /usr/local/lib/python3.9/dist-packages (from torch>=1.6.0->sentence-transformers==2.2.2) (2.0.0)\n",
      "Requirement already satisfied: networkx in /usr/local/lib/python3.9/dist-packages (from torch>=1.6.0->sentence-transformers==2.2.2) (3.1)\n",
      "Requirement already satisfied: lit in /usr/local/lib/python3.9/dist-packages (from triton==2.0.0->torch>=1.6.0->sentence-transformers==2.2.2) (16.0.1)\n",
      "Requirement already satisfied: cmake in /usr/local/lib/python3.9/dist-packages (from triton==2.0.0->torch>=1.6.0->sentence-transformers==2.2.2) (3.25.2)\n",
      "Requirement already satisfied: regex!=2019.12.17 in /usr/local/lib/python3.9/dist-packages (from transformers<5.0.0,>=4.6.0->sentence-transformers==2.2.2) (2022.10.31)\n",
      "Collecting tokenizers!=0.11.3,<0.14,>=0.11.1\n",
      "  Downloading tokenizers-0.13.3-cp39-cp39-manylinux_2_17_x86_64.manylinux2014_x86_64.whl (7.8 MB)\n",
      "\u001B[2K     \u001B[90m━━━━━━━━━━━━━━━━━━━━━━━━━━━━━━━━━━━━━━━━\u001B[0m \u001B[32m7.8/7.8 MB\u001B[0m \u001B[31m48.7 MB/s\u001B[0m eta \u001B[36m0:00:00\u001B[0m\n",
      "\u001B[?25hRequirement already satisfied: joblib in /usr/local/lib/python3.9/dist-packages (from nltk->sentence-transformers==2.2.2) (1.2.0)\n",
      "Requirement already satisfied: click in /usr/local/lib/python3.9/dist-packages (from nltk->sentence-transformers==2.2.2) (8.1.3)\n",
      "Requirement already satisfied: threadpoolctl>=2.0.0 in /usr/local/lib/python3.9/dist-packages (from scikit-learn->sentence-transformers==2.2.2) (3.1.0)\n",
      "Requirement already satisfied: pillow!=8.3.*,>=5.3.0 in /usr/local/lib/python3.9/dist-packages (from torchvision->sentence-transformers==2.2.2) (8.4.0)\n",
      "Requirement already satisfied: MarkupSafe>=2.0 in /usr/local/lib/python3.9/dist-packages (from jinja2->torch>=1.6.0->sentence-transformers==2.2.2) (2.1.2)\n",
      "Requirement already satisfied: idna<4,>=2.5 in /usr/local/lib/python3.9/dist-packages (from requests->huggingface-hub>=0.4.0->sentence-transformers==2.2.2) (3.4)\n",
      "Requirement already satisfied: charset-normalizer~=2.0.0 in /usr/local/lib/python3.9/dist-packages (from requests->huggingface-hub>=0.4.0->sentence-transformers==2.2.2) (2.0.12)\n",
      "Requirement already satisfied: urllib3<1.27,>=1.21.1 in /usr/local/lib/python3.9/dist-packages (from requests->huggingface-hub>=0.4.0->sentence-transformers==2.2.2) (1.26.15)\n",
      "Requirement already satisfied: certifi>=2017.4.17 in /usr/local/lib/python3.9/dist-packages (from requests->huggingface-hub>=0.4.0->sentence-transformers==2.2.2) (2022.12.7)\n",
      "Requirement already satisfied: mpmath>=0.19 in /usr/local/lib/python3.9/dist-packages (from sympy->torch>=1.6.0->sentence-transformers==2.2.2) (1.3.0)\n",
      "Building wheels for collected packages: sentence-transformers\n",
      "  Building wheel for sentence-transformers (setup.py) ... \u001B[?25l\u001B[?25hdone\n",
      "  Created wheel for sentence-transformers: filename=sentence_transformers-2.2.2-py3-none-any.whl size=125942 sha256=d32f64717ceee93a347414264c1eb02150f523c7561e9b7aa965ecc9caf12c9d\n",
      "  Stored in directory: /root/.cache/pip/wheels/71/67/06/162a3760c40d74dd40bc855d527008d26341c2b0ecf3e8e11f\n",
      "Successfully built sentence-transformers\n",
      "Installing collected packages: tokenizers, sentencepiece, huggingface-hub, transformers, sentence-transformers\n",
      "Successfully installed huggingface-hub-0.14.0 sentence-transformers-2.2.2 sentencepiece-0.1.98 tokenizers-0.13.3 transformers-4.28.1\n"
     ]
    }
   ]
  },
  {
   "cell_type": "markdown",
   "id": "2f5eaed7",
   "metadata": {
    "id": "2f5eaed7"
   },
   "source": [
    "# Load Tweets\n",
    "\n",
    "The dataframe of tweets contain the following columns:\n",
    "\n",
    "- `id`: The unique identifier of the tweet\n",
    "- `text`: The content of the tweet\n",
    "- `type`: The type of tweet, which can be 'tweet', 'quoted', 'retweeted' or 'quoted__replied_to'\n",
    "- `author_id`: The unique identifier of the author of the tweet\n",
    "- `possibly_sensitive`: A boolean value indicating whether the tweet contains sensitive content\n",
    "- `retweet_count`: The number of times the tweet has been retweeted\n",
    "- `quote_count`: The number of times the tweet has been quoted\n",
    "- `reply_count`: The number of times the tweet has been replied to\n",
    "- `like_count`: The number of times the tweet has been liked\n",
    "- `followers_count`: The number of followers of the author of the tweet\n",
    "- `following_count`: The number of accounts the author of the tweet is following\n",
    "- `tweet_count`: The total number of tweets made by the author of the tweet\n",
    "- `listed_count`: The number of lists the author of the tweet is a member of\n",
    "- `score_compound`:  A numerical value ranging from -1 to 1 indicating the overall sentiment of the tweet, where -1 represents  negative sentiment and 1 represents positive sentiment. **This is the target variable for the regression task.**\n",
    "- `sentiment`: A categorical variable indicating the sentiment of the tweet, which can be 'negative', 'neutral' or 'positive'. **This is the target variable for the classification task.**\n",
    "\n",
    "\n"
   ]
  },
  {
   "cell_type": "code",
   "execution_count": null,
   "id": "762536aa",
   "metadata": {
    "id": "762536aa"
   },
   "outputs": [],
   "source": [
    "import os\n",
    "import pandas as pd\n",
    "pd.set_option('display.max_rows', 100)\n",
    "\n",
    "from wordcloud import WordCloud\n",
    "\n",
    "import matplotlib.pyplot as plt\n",
    "import seaborn as sns\n",
    "from tueplots import bundles\n",
    "\n",
    "plt.rcParams.update(bundles.icml2022())\n",
    "import tueplots.constants.color.palettes as tue_palettes\n",
    "\n",
    "from sentence_transformers import SentenceTransformer\n",
    "\n",
    "import matplotlib as mpl\n",
    "mpl.rcParams.update(mpl.rcParamsDefault)\n"
   ]
  },
  {
   "cell_type": "code",
   "execution_count": 6,
   "outputs": [],
   "source": [
    "test_data_path = \"./data/tweets_test_1.csv\"\n",
    "train_data_path = \"./data/tweets_train.csv\""
   ],
   "metadata": {
    "collapsed": false,
    "ExecuteTime": {
     "end_time": "2023-05-14T12:58:43.119031586Z",
     "start_time": "2023-05-14T12:58:43.114140Z"
    }
   }
  },
  {
   "cell_type": "code",
   "execution_count": 9,
   "id": "2fc6b0bb",
   "metadata": {
    "id": "2fc6b0bb",
    "ExecuteTime": {
     "end_time": "2023-05-14T13:00:08.863824403Z",
     "start_time": "2023-05-14T13:00:08.779391015Z"
    }
   },
   "outputs": [],
   "source": [
    "team_id = '1' #put your team id here\n",
    "split = 'test_1' # replace by 'test_2' for FINAL submission\n",
    "\n",
    "df = pd.read_csv(train_data_path).sample(100) # we are subsampling 100 training data\n",
    "df_test = pd.read_csv(train_data_path).sample(200) # we are subsampling 200 test data"
   ]
  },
  {
   "cell_type": "code",
   "execution_count": null,
   "id": "c321d106",
   "metadata": {
    "id": "c321d106",
    "executionInfo": {
     "status": "ok",
     "timestamp": 1682351179439,
     "user_tz": -120,
     "elapsed": 8,
     "user": {
      "displayName": "Batuhan Koyuncu",
      "userId": "13470316719110860762"
     }
    },
    "colab": {
     "base_uri": "https://localhost:8080/",
     "height": 530
    },
    "outputId": "52c430b5-e5fe-4412-d579-687609eb9dee"
   },
   "outputs": [
    {
     "output_type": "execute_result",
     "data": {
      "text/plain": [
       "                       id                                               text  \\\n",
       "5654   555438389814505472  .@BaiduResearch now has best ImageNet classifi...   \n",
       "5342  1010365822806646784  Loving the #WorldCup !! So nice to see countri...   \n",
       "1566  1534670676778311680  Excited we're partnering with @figma to bring ...   \n",
       "5461   334764671808724992  Yale joins Coursera!  Courses on Financial Mar...   \n",
       "7880   707540472038752257  Trending globally on twitter no. 3, 6, 7, 9, a...   \n",
       "\n",
       "       type   author_id  possibly_sensitive  retweet_count  quote_count  \\\n",
       "5654  tweet   216939636               False             79            0   \n",
       "5342  tweet    14130366               False            477           24   \n",
       "1566  tweet    14130366               False            218           43   \n",
       "5461  tweet   216939636               False              8            0   \n",
       "7880  tweet  1482581556               False             56            0   \n",
       "\n",
       "      reply_count  like_count  followers_count  following_count  tweet_count  \\\n",
       "5654            1          63           744556              670         1510   \n",
       "5342          155        6806          5169451              140         1833   \n",
       "1566           83        2273          5169451              140         1833   \n",
       "5461            2           7           744556              670         1510   \n",
       "7880            4         126           282492               99         1468   \n",
       "\n",
       "      listed_count                                              words  \\\n",
       "5654          9898    ['best', 'imagenet', 'classification', 'error']   \n",
       "5342          8955  ['loving', 'worldcup', 'nice', 'see', 'countri...   \n",
       "1566          8955  ['excited', 'partnering', 'bring', 'collaborat...   \n",
       "5461          9898  ['yale', 'joins', 'coursera', 'courses', 'fina...   \n",
       "7880          4681  ['trending', 'globally', 'twitter', 'alphago',...   \n",
       "\n",
       "      score_compound sentiment  \n",
       "5654          0.3612  positive  \n",
       "5342          0.9473  positive  \n",
       "1566          0.3400   neutral  \n",
       "5461          0.0000   neutral  \n",
       "7880         -0.2960   neutral  "
      ],
      "text/html": [
       "\n",
       "  <div id=\"df-942caf0c-9e6a-4f9d-b2b2-60c788327437\">\n",
       "    <div class=\"colab-df-container\">\n",
       "      <div>\n",
       "<style scoped>\n",
       "    .dataframe tbody tr th:only-of-type {\n",
       "        vertical-align: middle;\n",
       "    }\n",
       "\n",
       "    .dataframe tbody tr th {\n",
       "        vertical-align: top;\n",
       "    }\n",
       "\n",
       "    .dataframe thead th {\n",
       "        text-align: right;\n",
       "    }\n",
       "</style>\n",
       "<table border=\"1\" class=\"dataframe\">\n",
       "  <thead>\n",
       "    <tr style=\"text-align: right;\">\n",
       "      <th></th>\n",
       "      <th>id</th>\n",
       "      <th>text</th>\n",
       "      <th>type</th>\n",
       "      <th>author_id</th>\n",
       "      <th>possibly_sensitive</th>\n",
       "      <th>retweet_count</th>\n",
       "      <th>quote_count</th>\n",
       "      <th>reply_count</th>\n",
       "      <th>like_count</th>\n",
       "      <th>followers_count</th>\n",
       "      <th>following_count</th>\n",
       "      <th>tweet_count</th>\n",
       "      <th>listed_count</th>\n",
       "      <th>words</th>\n",
       "      <th>score_compound</th>\n",
       "      <th>sentiment</th>\n",
       "    </tr>\n",
       "  </thead>\n",
       "  <tbody>\n",
       "    <tr>\n",
       "      <th>5654</th>\n",
       "      <td>555438389814505472</td>\n",
       "      <td>.@BaiduResearch now has best ImageNet classifi...</td>\n",
       "      <td>tweet</td>\n",
       "      <td>216939636</td>\n",
       "      <td>False</td>\n",
       "      <td>79</td>\n",
       "      <td>0</td>\n",
       "      <td>1</td>\n",
       "      <td>63</td>\n",
       "      <td>744556</td>\n",
       "      <td>670</td>\n",
       "      <td>1510</td>\n",
       "      <td>9898</td>\n",
       "      <td>['best', 'imagenet', 'classification', 'error']</td>\n",
       "      <td>0.3612</td>\n",
       "      <td>positive</td>\n",
       "    </tr>\n",
       "    <tr>\n",
       "      <th>5342</th>\n",
       "      <td>1010365822806646784</td>\n",
       "      <td>Loving the #WorldCup !! So nice to see countri...</td>\n",
       "      <td>tweet</td>\n",
       "      <td>14130366</td>\n",
       "      <td>False</td>\n",
       "      <td>477</td>\n",
       "      <td>24</td>\n",
       "      <td>155</td>\n",
       "      <td>6806</td>\n",
       "      <td>5169451</td>\n",
       "      <td>140</td>\n",
       "      <td>1833</td>\n",
       "      <td>8955</td>\n",
       "      <td>['loving', 'worldcup', 'nice', 'see', 'countri...</td>\n",
       "      <td>0.9473</td>\n",
       "      <td>positive</td>\n",
       "    </tr>\n",
       "    <tr>\n",
       "      <th>1566</th>\n",
       "      <td>1534670676778311680</td>\n",
       "      <td>Excited we're partnering with @figma to bring ...</td>\n",
       "      <td>tweet</td>\n",
       "      <td>14130366</td>\n",
       "      <td>False</td>\n",
       "      <td>218</td>\n",
       "      <td>43</td>\n",
       "      <td>83</td>\n",
       "      <td>2273</td>\n",
       "      <td>5169451</td>\n",
       "      <td>140</td>\n",
       "      <td>1833</td>\n",
       "      <td>8955</td>\n",
       "      <td>['excited', 'partnering', 'bring', 'collaborat...</td>\n",
       "      <td>0.3400</td>\n",
       "      <td>neutral</td>\n",
       "    </tr>\n",
       "    <tr>\n",
       "      <th>5461</th>\n",
       "      <td>334764671808724992</td>\n",
       "      <td>Yale joins Coursera!  Courses on Financial Mar...</td>\n",
       "      <td>tweet</td>\n",
       "      <td>216939636</td>\n",
       "      <td>False</td>\n",
       "      <td>8</td>\n",
       "      <td>0</td>\n",
       "      <td>2</td>\n",
       "      <td>7</td>\n",
       "      <td>744556</td>\n",
       "      <td>670</td>\n",
       "      <td>1510</td>\n",
       "      <td>9898</td>\n",
       "      <td>['yale', 'joins', 'coursera', 'courses', 'fina...</td>\n",
       "      <td>0.0000</td>\n",
       "      <td>neutral</td>\n",
       "    </tr>\n",
       "    <tr>\n",
       "      <th>7880</th>\n",
       "      <td>707540472038752257</td>\n",
       "      <td>Trending globally on twitter no. 3, 6, 7, 9, a...</td>\n",
       "      <td>tweet</td>\n",
       "      <td>1482581556</td>\n",
       "      <td>False</td>\n",
       "      <td>56</td>\n",
       "      <td>0</td>\n",
       "      <td>4</td>\n",
       "      <td>126</td>\n",
       "      <td>282492</td>\n",
       "      <td>99</td>\n",
       "      <td>1468</td>\n",
       "      <td>4681</td>\n",
       "      <td>['trending', 'globally', 'twitter', 'alphago',...</td>\n",
       "      <td>-0.2960</td>\n",
       "      <td>neutral</td>\n",
       "    </tr>\n",
       "  </tbody>\n",
       "</table>\n",
       "</div>\n",
       "      <button class=\"colab-df-convert\" onclick=\"convertToInteractive('df-942caf0c-9e6a-4f9d-b2b2-60c788327437')\"\n",
       "              title=\"Convert this dataframe to an interactive table.\"\n",
       "              style=\"display:none;\">\n",
       "        \n",
       "  <svg xmlns=\"http://www.w3.org/2000/svg\" height=\"24px\"viewBox=\"0 0 24 24\"\n",
       "       width=\"24px\">\n",
       "    <path d=\"M0 0h24v24H0V0z\" fill=\"none\"/>\n",
       "    <path d=\"M18.56 5.44l.94 2.06.94-2.06 2.06-.94-2.06-.94-.94-2.06-.94 2.06-2.06.94zm-11 1L8.5 8.5l.94-2.06 2.06-.94-2.06-.94L8.5 2.5l-.94 2.06-2.06.94zm10 10l.94 2.06.94-2.06 2.06-.94-2.06-.94-.94-2.06-.94 2.06-2.06.94z\"/><path d=\"M17.41 7.96l-1.37-1.37c-.4-.4-.92-.59-1.43-.59-.52 0-1.04.2-1.43.59L10.3 9.45l-7.72 7.72c-.78.78-.78 2.05 0 2.83L4 21.41c.39.39.9.59 1.41.59.51 0 1.02-.2 1.41-.59l7.78-7.78 2.81-2.81c.8-.78.8-2.07 0-2.86zM5.41 20L4 18.59l7.72-7.72 1.47 1.35L5.41 20z\"/>\n",
       "  </svg>\n",
       "      </button>\n",
       "      \n",
       "  <style>\n",
       "    .colab-df-container {\n",
       "      display:flex;\n",
       "      flex-wrap:wrap;\n",
       "      gap: 12px;\n",
       "    }\n",
       "\n",
       "    .colab-df-convert {\n",
       "      background-color: #E8F0FE;\n",
       "      border: none;\n",
       "      border-radius: 50%;\n",
       "      cursor: pointer;\n",
       "      display: none;\n",
       "      fill: #1967D2;\n",
       "      height: 32px;\n",
       "      padding: 0 0 0 0;\n",
       "      width: 32px;\n",
       "    }\n",
       "\n",
       "    .colab-df-convert:hover {\n",
       "      background-color: #E2EBFA;\n",
       "      box-shadow: 0px 1px 2px rgba(60, 64, 67, 0.3), 0px 1px 3px 1px rgba(60, 64, 67, 0.15);\n",
       "      fill: #174EA6;\n",
       "    }\n",
       "\n",
       "    [theme=dark] .colab-df-convert {\n",
       "      background-color: #3B4455;\n",
       "      fill: #D2E3FC;\n",
       "    }\n",
       "\n",
       "    [theme=dark] .colab-df-convert:hover {\n",
       "      background-color: #434B5C;\n",
       "      box-shadow: 0px 1px 3px 1px rgba(0, 0, 0, 0.15);\n",
       "      filter: drop-shadow(0px 1px 2px rgba(0, 0, 0, 0.3));\n",
       "      fill: #FFFFFF;\n",
       "    }\n",
       "  </style>\n",
       "\n",
       "      <script>\n",
       "        const buttonEl =\n",
       "          document.querySelector('#df-942caf0c-9e6a-4f9d-b2b2-60c788327437 button.colab-df-convert');\n",
       "        buttonEl.style.display =\n",
       "          google.colab.kernel.accessAllowed ? 'block' : 'none';\n",
       "\n",
       "        async function convertToInteractive(key) {\n",
       "          const element = document.querySelector('#df-942caf0c-9e6a-4f9d-b2b2-60c788327437');\n",
       "          const dataTable =\n",
       "            await google.colab.kernel.invokeFunction('convertToInteractive',\n",
       "                                                     [key], {});\n",
       "          if (!dataTable) return;\n",
       "\n",
       "          const docLinkHtml = 'Like what you see? Visit the ' +\n",
       "            '<a target=\"_blank\" href=https://colab.research.google.com/notebooks/data_table.ipynb>data table notebook</a>'\n",
       "            + ' to learn more about interactive tables.';\n",
       "          element.innerHTML = '';\n",
       "          dataTable['output_type'] = 'display_data';\n",
       "          await google.colab.output.renderOutput(dataTable, element);\n",
       "          const docLink = document.createElement('div');\n",
       "          docLink.innerHTML = docLinkHtml;\n",
       "          element.appendChild(docLink);\n",
       "        }\n",
       "      </script>\n",
       "    </div>\n",
       "  </div>\n",
       "  "
      ]
     },
     "metadata": {},
     "execution_count": 5
    }
   ],
   "source": [
    "df[df.type == 'tweet'].head()"
   ]
  },
  {
   "cell_type": "code",
   "execution_count": null,
   "id": "57cee5aa",
   "metadata": {
    "id": "57cee5aa",
    "executionInfo": {
     "status": "ok",
     "timestamp": 1682351182266,
     "user_tz": -120,
     "elapsed": 265,
     "user": {
      "displayName": "Batuhan Koyuncu",
      "userId": "13470316719110860762"
     }
    },
    "colab": {
     "base_uri": "https://localhost:8080/",
     "height": 600
    },
    "outputId": "85c2cee9-9c1b-4b8e-daba-0f52e9c088f6"
   },
   "outputs": [
    {
     "output_type": "execute_result",
     "data": {
      "text/plain": [
       "                      id                                               text  \\\n",
       "41   1561704937624506368  As I've said in the past:\\nMany of the best id...   \n",
       "405   646696272267636736  RT @neiltyson: Sept 23: Happy Equinox to all E...   \n",
       "198   889855888948740096  Kudos Mark Zuckerberg for speaking out against...   \n",
       "928   276437836184576000  Coursera just reached 2 million students (doub...   \n",
       "506  1523430740565786624  RT @CWolberger: Just love this little bit on t...   \n",
       "\n",
       "          type  author_id  possibly_sensitive  retweet_count  quote_count  \\\n",
       "41      quoted   48008938               False             84            6   \n",
       "405  retweeted   14130366               False           4897            0   \n",
       "198      tweet  216939636               False            520           86   \n",
       "928      tweet  216939636               False             66            0   \n",
       "506  retweeted   62044012               False          12883            0   \n",
       "\n",
       "     reply_count  like_count  followers_count  following_count  tweet_count  \\\n",
       "41             8         532           427851              582        12949   \n",
       "405            0           0          5169451              140         1833   \n",
       "198           84        1170           744556              670         1510   \n",
       "928            6          12           744556              670         1510   \n",
       "506            0           0            33022             3383         5246   \n",
       "\n",
       "     listed_count                                              words  \n",
       "41           6488  ['said', 'past', 'many', 'best', 'ideas', 'ai'...  \n",
       "405          8955  ['sept', 'happy', 'equinox', 'earthlings', 'on...  \n",
       "198          9898  ['kudos', 'mark', 'zuckerberg', 'speaking', 'a...  \n",
       "928          9898  ['coursera', 'reached', 'million', 'students',...  \n",
       "506           359  ['love', 'little', 'bit', 'mother', 'day', 'ca...  "
      ],
      "text/html": [
       "\n",
       "  <div id=\"df-99de6676-3993-4277-9851-d6bc7e213261\">\n",
       "    <div class=\"colab-df-container\">\n",
       "      <div>\n",
       "<style scoped>\n",
       "    .dataframe tbody tr th:only-of-type {\n",
       "        vertical-align: middle;\n",
       "    }\n",
       "\n",
       "    .dataframe tbody tr th {\n",
       "        vertical-align: top;\n",
       "    }\n",
       "\n",
       "    .dataframe thead th {\n",
       "        text-align: right;\n",
       "    }\n",
       "</style>\n",
       "<table border=\"1\" class=\"dataframe\">\n",
       "  <thead>\n",
       "    <tr style=\"text-align: right;\">\n",
       "      <th></th>\n",
       "      <th>id</th>\n",
       "      <th>text</th>\n",
       "      <th>type</th>\n",
       "      <th>author_id</th>\n",
       "      <th>possibly_sensitive</th>\n",
       "      <th>retweet_count</th>\n",
       "      <th>quote_count</th>\n",
       "      <th>reply_count</th>\n",
       "      <th>like_count</th>\n",
       "      <th>followers_count</th>\n",
       "      <th>following_count</th>\n",
       "      <th>tweet_count</th>\n",
       "      <th>listed_count</th>\n",
       "      <th>words</th>\n",
       "    </tr>\n",
       "  </thead>\n",
       "  <tbody>\n",
       "    <tr>\n",
       "      <th>41</th>\n",
       "      <td>1561704937624506368</td>\n",
       "      <td>As I've said in the past:\\nMany of the best id...</td>\n",
       "      <td>quoted</td>\n",
       "      <td>48008938</td>\n",
       "      <td>False</td>\n",
       "      <td>84</td>\n",
       "      <td>6</td>\n",
       "      <td>8</td>\n",
       "      <td>532</td>\n",
       "      <td>427851</td>\n",
       "      <td>582</td>\n",
       "      <td>12949</td>\n",
       "      <td>6488</td>\n",
       "      <td>['said', 'past', 'many', 'best', 'ideas', 'ai'...</td>\n",
       "    </tr>\n",
       "    <tr>\n",
       "      <th>405</th>\n",
       "      <td>646696272267636736</td>\n",
       "      <td>RT @neiltyson: Sept 23: Happy Equinox to all E...</td>\n",
       "      <td>retweeted</td>\n",
       "      <td>14130366</td>\n",
       "      <td>False</td>\n",
       "      <td>4897</td>\n",
       "      <td>0</td>\n",
       "      <td>0</td>\n",
       "      <td>0</td>\n",
       "      <td>5169451</td>\n",
       "      <td>140</td>\n",
       "      <td>1833</td>\n",
       "      <td>8955</td>\n",
       "      <td>['sept', 'happy', 'equinox', 'earthlings', 'on...</td>\n",
       "    </tr>\n",
       "    <tr>\n",
       "      <th>198</th>\n",
       "      <td>889855888948740096</td>\n",
       "      <td>Kudos Mark Zuckerberg for speaking out against...</td>\n",
       "      <td>tweet</td>\n",
       "      <td>216939636</td>\n",
       "      <td>False</td>\n",
       "      <td>520</td>\n",
       "      <td>86</td>\n",
       "      <td>84</td>\n",
       "      <td>1170</td>\n",
       "      <td>744556</td>\n",
       "      <td>670</td>\n",
       "      <td>1510</td>\n",
       "      <td>9898</td>\n",
       "      <td>['kudos', 'mark', 'zuckerberg', 'speaking', 'a...</td>\n",
       "    </tr>\n",
       "    <tr>\n",
       "      <th>928</th>\n",
       "      <td>276437836184576000</td>\n",
       "      <td>Coursera just reached 2 million students (doub...</td>\n",
       "      <td>tweet</td>\n",
       "      <td>216939636</td>\n",
       "      <td>False</td>\n",
       "      <td>66</td>\n",
       "      <td>0</td>\n",
       "      <td>6</td>\n",
       "      <td>12</td>\n",
       "      <td>744556</td>\n",
       "      <td>670</td>\n",
       "      <td>1510</td>\n",
       "      <td>9898</td>\n",
       "      <td>['coursera', 'reached', 'million', 'students',...</td>\n",
       "    </tr>\n",
       "    <tr>\n",
       "      <th>506</th>\n",
       "      <td>1523430740565786624</td>\n",
       "      <td>RT @CWolberger: Just love this little bit on t...</td>\n",
       "      <td>retweeted</td>\n",
       "      <td>62044012</td>\n",
       "      <td>False</td>\n",
       "      <td>12883</td>\n",
       "      <td>0</td>\n",
       "      <td>0</td>\n",
       "      <td>0</td>\n",
       "      <td>33022</td>\n",
       "      <td>3383</td>\n",
       "      <td>5246</td>\n",
       "      <td>359</td>\n",
       "      <td>['love', 'little', 'bit', 'mother', 'day', 'ca...</td>\n",
       "    </tr>\n",
       "  </tbody>\n",
       "</table>\n",
       "</div>\n",
       "      <button class=\"colab-df-convert\" onclick=\"convertToInteractive('df-99de6676-3993-4277-9851-d6bc7e213261')\"\n",
       "              title=\"Convert this dataframe to an interactive table.\"\n",
       "              style=\"display:none;\">\n",
       "        \n",
       "  <svg xmlns=\"http://www.w3.org/2000/svg\" height=\"24px\"viewBox=\"0 0 24 24\"\n",
       "       width=\"24px\">\n",
       "    <path d=\"M0 0h24v24H0V0z\" fill=\"none\"/>\n",
       "    <path d=\"M18.56 5.44l.94 2.06.94-2.06 2.06-.94-2.06-.94-.94-2.06-.94 2.06-2.06.94zm-11 1L8.5 8.5l.94-2.06 2.06-.94-2.06-.94L8.5 2.5l-.94 2.06-2.06.94zm10 10l.94 2.06.94-2.06 2.06-.94-2.06-.94-.94-2.06-.94 2.06-2.06.94z\"/><path d=\"M17.41 7.96l-1.37-1.37c-.4-.4-.92-.59-1.43-.59-.52 0-1.04.2-1.43.59L10.3 9.45l-7.72 7.72c-.78.78-.78 2.05 0 2.83L4 21.41c.39.39.9.59 1.41.59.51 0 1.02-.2 1.41-.59l7.78-7.78 2.81-2.81c.8-.78.8-2.07 0-2.86zM5.41 20L4 18.59l7.72-7.72 1.47 1.35L5.41 20z\"/>\n",
       "  </svg>\n",
       "      </button>\n",
       "      \n",
       "  <style>\n",
       "    .colab-df-container {\n",
       "      display:flex;\n",
       "      flex-wrap:wrap;\n",
       "      gap: 12px;\n",
       "    }\n",
       "\n",
       "    .colab-df-convert {\n",
       "      background-color: #E8F0FE;\n",
       "      border: none;\n",
       "      border-radius: 50%;\n",
       "      cursor: pointer;\n",
       "      display: none;\n",
       "      fill: #1967D2;\n",
       "      height: 32px;\n",
       "      padding: 0 0 0 0;\n",
       "      width: 32px;\n",
       "    }\n",
       "\n",
       "    .colab-df-convert:hover {\n",
       "      background-color: #E2EBFA;\n",
       "      box-shadow: 0px 1px 2px rgba(60, 64, 67, 0.3), 0px 1px 3px 1px rgba(60, 64, 67, 0.15);\n",
       "      fill: #174EA6;\n",
       "    }\n",
       "\n",
       "    [theme=dark] .colab-df-convert {\n",
       "      background-color: #3B4455;\n",
       "      fill: #D2E3FC;\n",
       "    }\n",
       "\n",
       "    [theme=dark] .colab-df-convert:hover {\n",
       "      background-color: #434B5C;\n",
       "      box-shadow: 0px 1px 3px 1px rgba(0, 0, 0, 0.15);\n",
       "      filter: drop-shadow(0px 1px 2px rgba(0, 0, 0, 0.3));\n",
       "      fill: #FFFFFF;\n",
       "    }\n",
       "  </style>\n",
       "\n",
       "      <script>\n",
       "        const buttonEl =\n",
       "          document.querySelector('#df-99de6676-3993-4277-9851-d6bc7e213261 button.colab-df-convert');\n",
       "        buttonEl.style.display =\n",
       "          google.colab.kernel.accessAllowed ? 'block' : 'none';\n",
       "\n",
       "        async function convertToInteractive(key) {\n",
       "          const element = document.querySelector('#df-99de6676-3993-4277-9851-d6bc7e213261');\n",
       "          const dataTable =\n",
       "            await google.colab.kernel.invokeFunction('convertToInteractive',\n",
       "                                                     [key], {});\n",
       "          if (!dataTable) return;\n",
       "\n",
       "          const docLinkHtml = 'Like what you see? Visit the ' +\n",
       "            '<a target=\"_blank\" href=https://colab.research.google.com/notebooks/data_table.ipynb>data table notebook</a>'\n",
       "            + ' to learn more about interactive tables.';\n",
       "          element.innerHTML = '';\n",
       "          dataTable['output_type'] = 'display_data';\n",
       "          await google.colab.output.renderOutput(dataTable, element);\n",
       "          const docLink = document.createElement('div');\n",
       "          docLink.innerHTML = docLinkHtml;\n",
       "          element.appendChild(docLink);\n",
       "        }\n",
       "      </script>\n",
       "    </div>\n",
       "  </div>\n",
       "  "
      ]
     },
     "metadata": {},
     "execution_count": 6
    }
   ],
   "source": [
    "df_test.head()"
   ]
  },
  {
   "cell_type": "markdown",
   "id": "1e7fefb4",
   "metadata": {
    "id": "1e7fefb4"
   },
   "source": [
    "# Pre-process tweets\n",
    "\n",
    "The following are the preprocessing steps we followed to get the `words` column from the original tweet, which corresponds to the `text` column of the dataframe.\n",
    "\n",
    "- Remove punctuations, special characters, mentions, links, and numbers from the tweets.\n",
    "- Convert all the tweets to lowercase.\n",
    "- Tokenize the tweets into individual words.\n",
    "- Remove stop words, such as \"and\", \"the\", \"a\", etc.\n",
    "- Perform stemming or lemmatization on the remaining words to convert them to their base form.\n",
    "- Filter out any words that occur infrequently in the corpus to reduce the dimensionality of the data.\n",
    "- Create a bag of words representation of the tweets, where each tweet is represented as a vector of word frequencies.\n",
    "\n",
    "\n",
    "**Note:** Lemmatization is a process in natural language processing where words are reduced to their base form, or lemma. This is done by removing inflections, such as pluralization or verb conjugation, and converting the word to its dictionary form. The result of this process is a word that is more easily recognizable, and can be used to improve the accuracy of NLP models, such as the LDA model. By lemmatizing the words in a corpus of text, the dimensionality of the data is reduced, and the relationships between words become clearer, making it easier to identify patterns and themes within the text.\n"
   ]
  },
  {
   "cell_type": "code",
   "execution_count": null,
   "id": "56c35dbf",
   "metadata": {
    "id": "56c35dbf"
   },
   "outputs": [],
   "source": [
    "df['words_str'] = df['words'].apply(lambda words: ' '.join(eval(words)))\n",
    "df_test['words_str'] = df_test['words'].apply(lambda words: ' '.join(eval(words)))\n"
   ]
  },
  {
   "cell_type": "markdown",
   "id": "c1071a69",
   "metadata": {
    "id": "c1071a69"
   },
   "source": [
    "# Sentiment Analysis"
   ]
  },
  {
   "cell_type": "markdown",
   "source": [
    "**In this part, we will visualize the distribution of these possible sentiments in our dataset.**\n",
    "\n",
    "Each tweet in our dataset have one of three sentiments (`sentiment`):\n",
    "\n",
    "*   Positive\n",
    "*   Neutral\n",
    "*   Negative\n",
    "\n",
    "Also, each tweet has a continous score (`score_compound`) between [-1,1] where -1 corresponds to negative and 1 corresponds to a positive sentinement."
   ],
   "metadata": {
    "id": "7Yyjw1lMYI76"
   },
   "id": "7Yyjw1lMYI76"
  },
  {
   "cell_type": "code",
   "execution_count": null,
   "id": "9c122718",
   "metadata": {
    "id": "9c122718",
    "executionInfo": {
     "status": "ok",
     "timestamp": 1682351191253,
     "user_tz": -120,
     "elapsed": 258,
     "user": {
      "displayName": "Batuhan Koyuncu",
      "userId": "13470316719110860762"
     }
    },
    "colab": {
     "base_uri": "https://localhost:8080/"
    },
    "outputId": "f5132424-6fde-43ca-a3f2-f340874a9e1c"
   },
   "outputs": [
    {
     "output_type": "stream",
     "name": "stdout",
     "text": [
      "Num. positive tweets: 33 (33.00%)\n",
      "Num. negative tweets: 4 (4.00%)\n",
      "Num. neutral tweets: 63 (63.00%)\n"
     ]
    }
   ],
   "source": [
    "df_pos = df[df.sentiment == 'positive']\n",
    "df_neu = df[df.sentiment == 'neutral']\n",
    "df_neg = df[df.sentiment == 'negative']\n",
    "\n",
    "\n",
    "num_total = len(df)\n",
    "num_pos = len(df_pos)\n",
    "num_neu = len(df_neu)\n",
    "num_neg = len(df_neg)\n",
    "\n",
    "print(f\"Num. positive tweets: {num_pos} ({num_pos/num_total*100:.2f}%)\")\n",
    "print(f\"Num. negative tweets: {num_neg} ({num_neg/num_total*100:.2f}%)\")\n",
    "print(f\"Num. neutral tweets: {num_neu} ({num_neu/num_total*100:.2f}%)\")\n"
   ]
  },
  {
   "cell_type": "code",
   "execution_count": null,
   "id": "827ae151",
   "metadata": {
    "id": "827ae151",
    "executionInfo": {
     "status": "ok",
     "timestamp": 1682351193098,
     "user_tz": -120,
     "elapsed": 4,
     "user": {
      "displayName": "Batuhan Koyuncu",
      "userId": "13470316719110860762"
     }
    },
    "colab": {
     "base_uri": "https://localhost:8080/",
     "height": 487
    },
    "outputId": "668a61a0-b870-4d0a-eace-d5e7f4f30fc2"
   },
   "outputs": [
    {
     "output_type": "display_data",
     "data": {
      "text/plain": [
       "<Figure size 640x480 with 1 Axes>"
      ],
      "image/png": "[encoded data removed]"
     },
     "metadata": {}
    }
   ],
   "source": [
    "plt.close('all')\n",
    "\n",
    "fig, ax = plt.subplots(1, 1)\n",
    "\n",
    "labels = []\n",
    "labels.append(f\"Positive ({num_pos/num_total*100:.2f}%)\")\n",
    "labels.append(f\"Neutral ({num_neu/num_total*100:.2f}%)\")\n",
    "labels.append(f\"Negative ({num_neg/num_total*100:.2f}%)\")\n",
    "\n",
    "sizes = [num_pos, num_neu, num_neg]\n",
    "\n",
    "colors = [f\"#{i}\" for i in tue_palettes.high_contrast[:3]]\n",
    "\n",
    "_ = ax.pie(sizes,colors=colors, startangle=90)\n",
    "# plt.style.use(default’)\n",
    "ax.legend(labels,\n",
    "          loc='upper center', \n",
    "          bbox_to_anchor=(1.23, 1.0), \n",
    "          fancybox=True, \n",
    "          shadow=True)\n",
    "\n",
    "ax.set_title(\"Sentiment Analysis\")\n",
    "plt.tight_layout()\n",
    "plt.show()"
   ]
  },
  {
   "cell_type": "code",
   "execution_count": null,
   "id": "4c85bd0e",
   "metadata": {
    "id": "4c85bd0e",
    "executionInfo": {
     "status": "ok",
     "timestamp": 1682351193917,
     "user_tz": -120,
     "elapsed": 9,
     "user": {
      "displayName": "Batuhan Koyuncu",
      "userId": "13470316719110860762"
     }
    },
    "colab": {
     "base_uri": "https://localhost:8080/",
     "height": 449
    },
    "outputId": "82da026e-2e11-4b2f-a983-9c3014834d88"
   },
   "outputs": [
    {
     "output_type": "display_data",
     "data": {
      "text/plain": [
       "<Figure size 640x480 with 1 Axes>"
      ],
      "image/png": "[encoded data removed]"
     },
     "metadata": {}
    }
   ],
   "source": [
    "plt.close('all')\n",
    "\n",
    "sns.countplot(x=df.sentiment, palette=colors)\n",
    "plt.show()"
   ]
  },
  {
   "cell_type": "code",
   "execution_count": null,
   "id": "9ad02231",
   "metadata": {
    "id": "9ad02231",
    "executionInfo": {
     "status": "ok",
     "timestamp": 1682351194486,
     "user_tz": -120,
     "elapsed": 576,
     "user": {
      "displayName": "Batuhan Koyuncu",
      "userId": "13470316719110860762"
     }
    },
    "colab": {
     "base_uri": "https://localhost:8080/",
     "height": 449
    },
    "outputId": "1a684bdc-604f-46b3-b763-acc4cb4a0100"
   },
   "outputs": [
    {
     "output_type": "display_data",
     "data": {
      "text/plain": [
       "<Figure size 640x480 with 1 Axes>"
      ],
      "image/png": "[encoded data removed]"
     },
     "metadata": {}
    }
   ],
   "source": [
    "plt.close('all')\n",
    "\n",
    "sns.violinplot(data=df, x='sentiment', y='score_compound', palette=colors)\n",
    "plt.show()"
   ]
  },
  {
   "cell_type": "markdown",
   "id": "77914864",
   "metadata": {
    "id": "77914864"
   },
   "source": [
    "# Obtain the text embeddings\n",
    "\n",
    "When working with natural language processing tasks, such as text classification, it is common to use word embeddings to represent the meaning of words and sentences. Word embeddings are dense vectors that capture the semantic relationships between words in a way that allows for easier processing by machine learning algorithms.\n",
    "\n",
    "The process of creating word embeddings involves training a neural network on a large corpus of text data. However, pre-trained word embeddings are readily available online and can be downloaded and used in your projects. See a complete list of pre-trained models [here](https://github.com/UKPLab/sentence-transformers/blob/master/docs/pretrained-models/sts-models.md). \n",
    "\n",
    "\n",
    "**Note:** When working with pre-trained models, it is important to keep in mind the computational resources required to generate the embeddings. Depending on the size of the model and the amount of text data being processed, generating embeddings may take a significant amount of time. Therefore, it is advisable to save the embeddings locally once they have been generated, to avoid the need to re-generate everytime you may want to make changes in the model (but not in the embedding).\n",
    "\n"
   ]
  },
  {
   "cell_type": "code",
   "execution_count": null,
   "id": "27ce70f9",
   "metadata": {
    "id": "27ce70f9"
   },
   "outputs": [],
   "source": [
    "# name = 'stsb-distilbert-base'\n",
    "name = 'bert-base-nli-mean-tokens'\n",
    "# name = 'average_word_embeddings_komninos'\n",
    "model = SentenceTransformer(name)\n"
   ]
  },
  {
   "cell_type": "code",
   "execution_count": null,
   "id": "203d3eb9",
   "metadata": {
    "id": "203d3eb9"
   },
   "outputs": [],
   "source": [
    "sentences = list(df.words_str.values)\n",
    "sentence_embeddings = model.encode(sentences)"
   ]
  },
  {
   "cell_type": "markdown",
   "id": "9c2323d4",
   "metadata": {
    "id": "9c2323d4"
   },
   "source": [
    "# Linear regression"
   ]
  },
  {
   "cell_type": "markdown",
   "source": [
    "In this part, we will solve an linear regression task to predict our target `score_compound`, i.e. continous sentiment score of tweets, using our features which are encodings of the tweets.\n"
   ],
   "metadata": {
    "id": "GjxnefI-aSOZ"
   },
   "id": "GjxnefI-aSOZ"
  },
  {
   "cell_type": "code",
   "source": [
    "#define some functions for plotting purposes\n",
    "\n",
    "def plot_y_continous(y, bins=10, show=True, title=None):\n",
    "    fig, ax = plt.subplots(1, 1)\n",
    "    _ = ax.hist(y, bins=bins)\n",
    "    if isinstance(title, str):\n",
    "        ax.set_title(title)\n",
    "    plt.tight_layout()\n",
    "    if show: plt.show()\n",
    "\n",
    "def plot_scatter(x, y,  show=True, x_label=None, y_label=None,  title=None):\n",
    "    fig, ax = plt.subplots(1, 1)\n",
    "    _ = ax.scatter(x,y)\n",
    "    if isinstance(title, str):\n",
    "        ax.set_title(title)\n",
    "    if isinstance(x_label, str):\n",
    "        ax.set_xlabel(x_label)\n",
    "    if isinstance(y_label, str):\n",
    "        ax.set_ylabel(y_label)\n",
    "    plt.tight_layout()\n",
    "    if show: plt.show()\n",
    "    "
   ],
   "metadata": {
    "id": "HTijDT6YctxD"
   },
   "id": "HTijDT6YctxD",
   "execution_count": null,
   "outputs": []
  },
  {
   "cell_type": "code",
   "source": [
    "#create X (feature matrix) and y (targets)\n",
    "X = sentence_embeddings\n",
    "y = df.score_compound.values\n",
    "print(f\"X: {X.shape}\")\n",
    "print(f\"y: {y.shape}\")\n",
    "\n"
   ],
   "metadata": {
    "colab": {
     "base_uri": "https://localhost:8080/"
    },
    "id": "-tij9jWO4p_n",
    "executionInfo": {
     "status": "ok",
     "timestamp": 1682351209849,
     "user_tz": -120,
     "elapsed": 10,
     "user": {
      "displayName": "Batuhan Koyuncu",
      "userId": "13470316719110860762"
     }
    },
    "outputId": "e5d7781d-037a-48e1-eaab-14a6e7c7705f"
   },
   "id": "-tij9jWO4p_n",
   "execution_count": null,
   "outputs": [
    {
     "output_type": "stream",
     "name": "stdout",
     "text": [
      "X: (100, 768)\n",
      "y: (100,)\n"
     ]
    }
   ]
  },
  {
   "cell_type": "code",
   "execution_count": null,
   "id": "027c24f9",
   "metadata": {
    "id": "027c24f9",
    "colab": {
     "base_uri": "https://localhost:8080/",
     "height": 487
    },
    "executionInfo": {
     "status": "ok",
     "timestamp": 1682351209850,
     "user_tz": -120,
     "elapsed": 10,
     "user": {
      "displayName": "Batuhan Koyuncu",
      "userId": "13470316719110860762"
     }
    },
    "outputId": "b5a1b9ca-70f3-46db-bd36-9fb45c165f41"
   },
   "outputs": [
    {
     "output_type": "display_data",
     "data": {
      "text/plain": [
       "<Figure size 640x480 with 1 Axes>"
      ],
      "image/png": "[encoded data removed]"
     },
     "metadata": {}
    }
   ],
   "source": [
    "plt.close('all')\n",
    "plot_y_continous(y, bins=20, title='Histogram of Target variable')"
   ]
  },
  {
   "cell_type": "markdown",
   "source": [
    "In its simplest form, predictions of a linear regression model can be summarized as\n",
    "\n",
    "$$\n",
    "\\hat{y} = \\mathbf{w}^T \\mathbf{x} = f(\\mathbf{x},\\mathbf{w})\n",
    "$$\n",
    "\n",
    "which can be optimized the cost functions \n",
    "\n",
    "$$\n",
    "\\mathbf{w}^{*}=\\underset{\\mathbf{w}}{\\arg \\min } \\frac{1}{n} \\sum_{i=1}^{n}\\left(y_{i}-f\\left(\\mathbf{x}_{i}, \\mathbf{w}\\right)\\right)^{2}\n",
    "$$"
   ],
   "metadata": {
    "id": "2_CBqwiigmaF"
   },
   "id": "2_CBqwiigmaF"
  },
  {
   "cell_type": "code",
   "execution_count": null,
   "id": "5377a1d1",
   "metadata": {
    "id": "5377a1d1"
   },
   "outputs": [],
   "source": [
    "from sklearn import linear_model\n",
    "from sklearn.model_selection import train_test_split\n",
    "import sklearn.metrics as skm\n",
    "import numpy as np"
   ]
  },
  {
   "cell_type": "code",
   "source": [
    "#split X and y for training and validation purposes\n",
    "X_train, X_val, y_train, y_val = train_test_split(X, y, test_size=0.2, random_state=42)\n",
    "\n",
    "datasets = [\n",
    "    [X_train, y_train],\n",
    "    [X_val, y_val]\n",
    "]\n",
    "\n",
    "#create our linear regression model\n",
    "reg = linear_model.LinearRegression(fit_intercept=True, copy_X=True, n_jobs=None, positive=False)"
   ],
   "metadata": {
    "id": "JzZwQFApeUBd"
   },
   "id": "JzZwQFApeUBd",
   "execution_count": null,
   "outputs": []
  },
  {
   "cell_type": "markdown",
   "source": [
    "Now fit a linear regression model on the training data."
   ],
   "metadata": {
    "id": "TarmeeGneDFb"
   },
   "id": "TarmeeGneDFb"
  },
  {
   "cell_type": "code",
   "execution_count": null,
   "id": "0154442a",
   "metadata": {
    "id": "0154442a"
   },
   "outputs": [],
   "source": [
    "reg = reg.fit(X_train, y_train)"
   ]
  },
  {
   "cell_type": "code",
   "execution_count": null,
   "id": "dba9ff00",
   "metadata": {
    "id": "dba9ff00",
    "colab": {
     "base_uri": "https://localhost:8080/"
    },
    "executionInfo": {
     "status": "ok",
     "timestamp": 1682351233221,
     "user_tz": -120,
     "elapsed": 5,
     "user": {
      "displayName": "Batuhan Koyuncu",
      "userId": "13470316719110860762"
     }
    },
    "outputId": "41edacb2-2034-477b-a382-ca41c06d5aea"
   },
   "outputs": [
    {
     "output_type": "stream",
     "name": "stdout",
     "text": [
      "\n",
      "Split: train\n",
      "\tRMSE: 0.00\n",
      "\tMAE: 0.00\n",
      "\n",
      "Split: valididation\n",
      "\tRMSE: 0.41\n",
      "\tMAE: 0.33\n"
     ]
    }
   ],
   "source": [
    "# Evaluate our predictor quantitatively\n",
    "for split_name, dataset in zip(['train', 'valididation'], datasets):\n",
    "    X_i, y_i = dataset\n",
    "    y_pred = reg.predict(X_i)\n",
    "\n",
    "    rmse = np.sqrt(skm.mean_squared_error(y_i, y_pred))\n",
    "    print(f'\\nSplit: {split_name}')\n",
    "    print(f\"\\tRMSE: {rmse:.2f}\")\n",
    "    mae = skm.mean_absolute_error(y_i, y_pred)\n",
    "    print(f\"\\tMAE: {mae:.2f}\")"
   ]
  },
  {
   "cell_type": "code",
   "execution_count": null,
   "id": "fcd4cf20",
   "metadata": {
    "id": "fcd4cf20",
    "colab": {
     "base_uri": "https://localhost:8080/",
     "height": 487
    },
    "executionInfo": {
     "status": "ok",
     "timestamp": 1682351236116,
     "user_tz": -120,
     "elapsed": 905,
     "user": {
      "displayName": "Batuhan Koyuncu",
      "userId": "13470316719110860762"
     }
    },
    "outputId": "87a3adfb-9677-4300-de94-1348eb73cd2e"
   },
   "outputs": [
    {
     "output_type": "display_data",
     "data": {
      "text/plain": [
       "<Figure size 640x480 with 1 Axes>"
      ],
      "image/png": "[encoded data removed]"
     },
     "metadata": {}
    }
   ],
   "source": [
    "#plot the histogram of learnt weights w_i \n",
    "plot_y_continous(reg.coef_, bins=20, title='Histogram of Parameters (w) learnt')"
   ]
  },
  {
   "cell_type": "markdown",
   "source": [
    "At this point, we can use our model to predict sentiments scores of tweets from `X_test`, i.e. test set. Do not forget to encode them as well.\n",
    "\n",
    "And save your predictions `y_hat` by naming it with the following format. \n",
    "\n",
    "`<TEAM_ID>__<SPLIT>_reg_pred.npy`\n",
    "\n",
    "Make sure that\n",
    "\n",
    "`<TEAM_ID>` is your team id as given in CMS.\n",
    "\n",
    "`<SPLIT>` is \"test_1\" during the semester and \"test_2\" for final submission. You will be notified when we need to move to \"test_2\"."
   ],
   "metadata": {
    "id": "qBItenN5erIi"
   },
   "id": "qBItenN5erIi"
  },
  {
   "cell_type": "code",
   "execution_count": null,
   "id": "91ee5e03",
   "metadata": {
    "id": "91ee5e03"
   },
   "outputs": [],
   "source": [
    "# Run this to save a file with your predictions on the test set to be submitted\n",
    "\n",
    "sentences = list(df_test.words_str.values)\n",
    "X_test = model.encode(sentences)\n",
    "y_hat = reg.predict(X_test)\n",
    "\n",
    "# Save the results with the format <TEAM_ID>__<SPLIT>_reg_pred.npy\n",
    "\n",
    "folder = '/content/drive/MyDrive/ML_2023/students'\n",
    "np.save(os.path.join(folder, f'{team_id}__{split}__reg_pred.npy'), y_hat)\n"
   ]
  },
  {
   "cell_type": "markdown",
   "id": "34410538",
   "metadata": {
    "id": "34410538"
   },
   "source": [
    "# Linear classification"
   ]
  },
  {
   "cell_type": "markdown",
   "source": [
    "In this part, we will solve a linear classification task to predict our target `sentiment`, i.e. sentiment class of tweets, using our features which are encodings of the tweets.\n"
   ],
   "metadata": {
    "id": "WeqFeth6hb6w"
   },
   "id": "WeqFeth6hb6w"
  },
  {
   "cell_type": "code",
   "execution_count": null,
   "id": "7ad5ec07",
   "metadata": {
    "id": "7ad5ec07"
   },
   "outputs": [],
   "source": [
    "from sklearn import linear_model\n",
    "from sklearn import preprocessing\n",
    "import numpy as np"
   ]
  },
  {
   "cell_type": "code",
   "execution_count": null,
   "id": "65482d95",
   "metadata": {
    "id": "65482d95"
   },
   "outputs": [],
   "source": [
    "def plot_y_discrete(y, show=True, title=None):\n",
    "    fig, ax = plt.subplots(1, 1)\n",
    "    sns.countplot(x=y, palette=colors, ax=ax)\n",
    "    if isinstance(title, str):\n",
    "        ax.set_title(title)\n",
    "    plt.tight_layout()\n",
    "    if show: plt.show()"
   ]
  },
  {
   "cell_type": "code",
   "execution_count": null,
   "id": "371be48e",
   "metadata": {
    "id": "371be48e",
    "colab": {
     "base_uri": "https://localhost:8080/",
     "height": 487
    },
    "executionInfo": {
     "status": "ok",
     "timestamp": 1682351440534,
     "user_tz": -120,
     "elapsed": 1137,
     "user": {
      "displayName": "Batuhan Koyuncu",
      "userId": "13470316719110860762"
     }
    },
    "outputId": "aeeb88b1-578e-421e-d471-8a379cb18f3c"
   },
   "outputs": [
    {
     "output_type": "display_data",
     "data": {
      "text/plain": [
       "<Figure size 640x480 with 1 Axes>"
      ],
      "image/png": "[encoded data removed]"
     },
     "metadata": {}
    }
   ],
   "source": [
    "plot_y_discrete(df.sentiment)"
   ]
  },
  {
   "cell_type": "markdown",
   "source": [
    "We will first change our targets (classes; positive, neutral, negative) to numeric targets. Then, we solve a logistic regression problem by minimizing the multinomial cross-entropy function\n",
    "\n",
    "$$\n",
    "J(\\theta) = -\\frac{1}{n} \\sum_{i=1}^{n} \\sum_{k=1}^{K} \\mathbb{1}_{y_{i}=k} \\log(p_{\\theta}(\\hat{y}=k | \\mathbf{x}_{i}))\n",
    "$$\n",
    "\n",
    "where $y_i \\in \\{1,\\ldots,K\\}$ and $p_{\\theta}(\\hat{y}=k | \\mathbf{x}_{i})$ is the probability assigned by our model to class $k$ having observed features $\\mathbf{x}_{i}$."
   ],
   "metadata": {
    "id": "_QIyfxXthmTT"
   },
   "id": "_QIyfxXthmTT"
  },
  {
   "cell_type": "code",
   "execution_count": null,
   "id": "5f516bc9",
   "metadata": {
    "id": "5f516bc9",
    "colab": {
     "base_uri": "https://localhost:8080/"
    },
    "executionInfo": {
     "status": "ok",
     "timestamp": 1682351440534,
     "user_tz": -120,
     "elapsed": 7,
     "user": {
      "displayName": "Batuhan Koyuncu",
      "userId": "13470316719110860762"
     }
    },
    "outputId": "4991e414-ad05-44c8-bcf8-be32c14590e5"
   },
   "outputs": [
    {
     "output_type": "stream",
     "name": "stdout",
     "text": [
      "Original classes ['negative' 'neutral' 'positive']\n",
      "Corresponding numeric classes [0 1 2]\n",
      "X: (100, 768)\n",
      "y: (100,) [0 1 2]\n"
     ]
    }
   ],
   "source": [
    "X = sentence_embeddings\n",
    "y_text = df.sentiment.values\n",
    "le = preprocessing.LabelEncoder()\n",
    "le.fit(y_text)\n",
    "print(f'Original classes {le.classes_}')\n",
    "print(f'Corresponding numeric classes {le.transform(le.classes_)}')\n",
    "y =le.transform(y_text)\n",
    "print(f\"X: {X.shape}\")\n",
    "print(f\"y: {y.shape} {np.unique(y)}\")\n",
    "X_train, X_val, y_train, y_val = train_test_split(X, y, test_size=0.2, random_state=42)\n",
    "\n",
    "datasets = [\n",
    "    [X_train, y_train],\n",
    "    [X_val, y_val]\n",
    "]\n",
    "clf = linear_model.LogisticRegression(penalty=None, \n",
    "                                      dual=False, \n",
    "                                      tol=0.0001, \n",
    "                                      C=1.0, \n",
    "                                      fit_intercept=True, \n",
    "                                      intercept_scaling=1, \n",
    "                                      class_weight=None, # None, balanced\n",
    "                                      random_state=None, \n",
    "                                      solver='lbfgs', \n",
    "                                      max_iter=1000, \n",
    "                                      multi_class='auto', \n",
    "                                      verbose=0, \n",
    "                                      warm_start=False, \n",
    "                                      n_jobs=None, \n",
    "                                      l1_ratio=None\n",
    "                                     )"
   ]
  },
  {
   "cell_type": "markdown",
   "source": [
    "Fit your model by using training data."
   ],
   "metadata": {
    "id": "0S5pf_bA2XAV"
   },
   "id": "0S5pf_bA2XAV"
  },
  {
   "cell_type": "code",
   "execution_count": null,
   "id": "c167c0b4",
   "metadata": {
    "id": "c167c0b4"
   },
   "outputs": [],
   "source": [
    "clf = clf.fit(X_train, y_train)\n"
   ]
  },
  {
   "cell_type": "markdown",
   "id": "b4e812a9",
   "metadata": {
    "id": "b4e812a9"
   },
   "source": [
    "\n",
    "Reminders about macro and micro averaging:\n",
    "\n",
    "\n",
    "In the context of computing F1-score, \"macro\" and \"micro\" averaging are two commonly used techniques to aggregate the per-class F1-scores.\n",
    "\n",
    "**Micro-average**: Compute the F1-score globally by counting the total true positives, false negatives, and false positives over all classes, and then calculating precision, recall, and F1-score using these aggregated values.\n",
    "\n",
    "**Macro-average**: Calculate the F1-score for each class separately, and then take the average of these per-class F1-scores.\n",
    "\n",
    "The main difference between these two techniques is the way they treat class imbalance. Micro-average treats all classes equally, regardless of their size, while macro-average treats each class equally, regardless of the number of samples in that class.\n",
    "\n",
    "Micro-average is often used when we care about overall performance across all classes, and we want to give more weight to the performance on larger classes. In contrast, macro-average is often used when we want to evaluate the performance on each class separately and give equal weight to each class.\n",
    "\n",
    "\n",
    "In addition to micro and macro averaging, there is another common technique for computing the F1-score called **weighted averaging**.\n",
    "\n",
    "**Weighted averaging** is similar to macro averaging in that it computes the per-class F1-score and then takes the average of these scores. However, unlike macro averaging, weighted averaging takes into account the number of samples in each class when computing the average. Specifically, the weighted average is computed as follows:\n",
    "\n",
    "- Compute the F1-score for each class separately.\n",
    "- Compute the weight for each class as the number of samples in that class divided by the total number of samples.\n",
    "- Compute the weighted average of the per-class F1-scores, where each per-class F1-score is weighted by the weight of that class.\n",
    "\n",
    "The weighted average is commonly used when the dataset is imbalanced, meaning that some classes have many more samples than others. In such cases, using the simple average (macro-average) would give too much weight to the smaller classes, while using micro-average would give too much weight to the larger classes. The weighted average strikes a balance between these two approaches by giving more weight to the classes with more samples while still taking into account the performance of all classes.\n"
   ]
  },
  {
   "cell_type": "markdown",
   "source": [
    "Now evaluate your model"
   ],
   "metadata": {
    "id": "URLzKp2J2x6i"
   },
   "id": "URLzKp2J2x6i"
  },
  {
   "cell_type": "code",
   "execution_count": null,
   "id": "ff8e0e50",
   "metadata": {
    "id": "ff8e0e50",
    "colab": {
     "base_uri": "https://localhost:8080/"
    },
    "executionInfo": {
     "status": "ok",
     "timestamp": 1682351440535,
     "user_tz": -120,
     "elapsed": 5,
     "user": {
      "displayName": "Batuhan Koyuncu",
      "userId": "13470316719110860762"
     }
    },
    "outputId": "38afdacb-3bae-41a7-e1fb-b25dbbaf36c9"
   },
   "outputs": [
    {
     "output_type": "stream",
     "name": "stdout",
     "text": [
      "\n",
      "Split: train\n",
      "              precision    recall  f1-score   support\n",
      "\n",
      "           0       1.00      1.00      1.00         4\n",
      "           1       1.00      1.00      1.00        49\n",
      "           2       1.00      1.00      1.00        27\n",
      "\n",
      "    accuracy                           1.00        80\n",
      "   macro avg       1.00      1.00      1.00        80\n",
      "weighted avg       1.00      1.00      1.00        80\n",
      "\n",
      "\n",
      "Split: valididation\n",
      "              precision    recall  f1-score   support\n",
      "\n",
      "           1       0.75      0.86      0.80        14\n",
      "           2       0.50      0.33      0.40         6\n",
      "\n",
      "    accuracy                           0.70        20\n",
      "   macro avg       0.62      0.60      0.60        20\n",
      "weighted avg       0.68      0.70      0.68        20\n",
      "\n"
     ]
    }
   ],
   "source": [
    "for split_name, dataset in zip(['train', 'validation'], datasets):\n",
    "    X_i, y_i = dataset\n",
    "    y_pred = clf.predict(X_i)\n",
    "    print(f'\\nSplit: {split_name}')\n",
    "    print(skm.classification_report(y_i, y_pred))"
   ]
  },
  {
   "cell_type": "markdown",
   "source": [
    "At this point, we can use our model to predict sentiments scores of tweets from `X_test`, i.e. test set. Do not forget to encode them as well.\n",
    "\n",
    "And save your predictions `y_hat` by naming it with the following format. \n",
    "\n",
    "`<TEAM_ID>__<SPLIT>_clf_pred.npy`\n",
    "\n",
    "Make sure that\n",
    "\n",
    "`<TEAM_ID>` is your team id as given in CMS.\n",
    "\n",
    "`<SPLIT>` is \"test_1\" during the semester and \"test_2\" for final submission. You will be notified when we need to move to \"test_2\"."
   ],
   "metadata": {
    "id": "sGxdMSXO2-xH"
   },
   "id": "sGxdMSXO2-xH"
  },
  {
   "cell_type": "code",
   "execution_count": null,
   "id": "d0cea870",
   "metadata": {
    "id": "d0cea870"
   },
   "outputs": [],
   "source": [
    "# Run this to save a file with your predictions on the test set to be submitted\n",
    "sentences = list(df_test.words_str.values)\n",
    "X_test = model.encode(sentences)\n",
    "y_hat = clf.predict(X_test)\n",
    "\n",
    "# Save the results with the format <TEAM_ID>__<SPLIT>_clf_pred.npy\n",
    "\n",
    "folder = '/content/drive/MyDrive/ML_2023/students'\n",
    "np.save(os.path.join(folder, f'{team_id}__{split}__clf_pred.npy'), y_hat)"
   ]
  },
  {
   "cell_type": "markdown",
   "source": [
    "# Submission to CMS"
   ],
   "metadata": {
    "id": "CMofiwvW5Sd8"
   },
   "id": "CMofiwvW5Sd8"
  },
  {
   "cell_type": "markdown",
   "source": [
    "Put your .npy files for both regression and classification tasks in the same zip file. Please name the file as `<TEAM_ID>.zip` and upload it to CMS system. It is essential that the files inside the .zip are named as follow:\n",
    "\n",
    "`<TEAM_ID>__<SPLIT>__reg_pred.npy` \\\n",
    "`<TEAM_ID>__<SPLIT>__clf_pred.npy` \\\n",
    "\n",
    "Above, `<SPLIT>` should correspond to `test_1` for the leaderboard and `test_2` for the final submission. "
   ],
   "metadata": {
    "id": "n-7pww1o3iWN"
   },
   "id": "n-7pww1o3iWN"
  },
  {
   "cell_type": "code",
   "source": [],
   "metadata": {
    "id": "B75zOG1F-KAQ"
   },
   "id": "B75zOG1F-KAQ",
   "execution_count": null,
   "outputs": []
  }
 ],
 "metadata": {
  "kernelspec": {
   "display_name": "Python 3 (ipykernel)",
   "language": "python",
   "name": "python3"
  },
  "language_info": {
   "codemirror_mode": {
    "name": "ipython",
    "version": 3
   },
   "file_extension": ".py",
   "mimetype": "text/x-python",
   "name": "python",
   "nbconvert_exporter": "python",
   "pygments_lexer": "ipython3",
   "version": "3.9.12"
  },
  "colab": {
   "provenance": [],
   "toc_visible": true
  }
 },
 "nbformat": 4,
 "nbformat_minor": 5
}
